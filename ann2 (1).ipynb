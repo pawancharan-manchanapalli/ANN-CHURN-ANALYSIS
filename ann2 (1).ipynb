{
  "nbformat": 4,
  "nbformat_minor": 0,
  "metadata": {
    "colab": {
      "name": "ann2.ipynb",
      "provenance": []
    },
    "kernelspec": {
      "name": "python3",
      "display_name": "Python 3"
    },
    "language_info": {
      "name": "python"
    }
  },
  "cells": [
    {
      "cell_type": "code",
      "execution_count": 6,
      "metadata": {
        "id": "-MAVD5sKkoFu"
      },
      "outputs": [],
      "source": [
        "import tensorflow as tf"
      ]
    },
    {
      "cell_type": "code",
      "source": [
        "print(tf.__version__)"
      ],
      "metadata": {
        "colab": {
          "base_uri": "https://localhost:8080/"
        },
        "id": "awBeo3_5k3xM",
        "outputId": "f3590282-c550-4c38-a8e4-eecefa1b05b0"
      },
      "execution_count": 7,
      "outputs": [
        {
          "output_type": "stream",
          "name": "stdout",
          "text": [
            "2.8.2\n"
          ]
        }
      ]
    },
    {
      "cell_type": "code",
      "source": [
        "import numpy as np\n",
        "import matplotlib.pyplot as plt\n",
        "import pandas as pd"
      ],
      "metadata": {
        "id": "FuvRbIjkk7RT"
      },
      "execution_count": 8,
      "outputs": []
    },
    {
      "cell_type": "code",
      "source": [
        "\n",
        "dataset = pd.read_csv('Churn_Modelling.csv')\n",
        "X = dataset.iloc[:, 3:13]\n",
        "y = dataset.iloc[:, 13]\n"
      ],
      "metadata": {
        "id": "IrQFKcDQk7T8"
      },
      "execution_count": 18,
      "outputs": []
    },
    {
      "cell_type": "code",
      "source": [
        "#Create dummy variables\n",
        "geography=pd.get_dummies(X[\"Geography\"],drop_first=True)\n",
        "gender=pd.get_dummies(X['Gender'],drop_first=True)"
      ],
      "metadata": {
        "id": "YDzeKmi_k7WM"
      },
      "execution_count": 19,
      "outputs": []
    },
    {
      "cell_type": "code",
      "source": [
        "## Concatenate the Data Frames\n",
        "\n",
        "X=pd.concat([X,geography,gender],axis=1)\n",
        "\n",
        "## Drop Unnecessary columns\n",
        "X=X.drop(['Geography','Gender'],axis=1)\n",
        "X.head()\n",
        "\n"
      ],
      "metadata": {
        "colab": {
          "base_uri": "https://localhost:8080/",
          "height": 250
        },
        "id": "wNdSWseZk7ZI",
        "outputId": "68589d9e-7b08-4621-dcd6-d931afe34cea"
      },
      "execution_count": 20,
      "outputs": [
        {
          "output_type": "execute_result",
          "data": {
            "text/plain": [
              "   CreditScore  Age  Tenure    Balance  NumOfProducts  HasCrCard  \\\n",
              "0          619   42       2       0.00              1          1   \n",
              "1          608   41       1   83807.86              1          0   \n",
              "2          502   42       8  159660.80              3          1   \n",
              "3          699   39       1       0.00              2          0   \n",
              "4          850   43       2  125510.82              1          1   \n",
              "\n",
              "   IsActiveMember  EstimatedSalary  Germany  Spain  Male  \n",
              "0               1        101348.88        0      0     0  \n",
              "1               1        112542.58        0      1     0  \n",
              "2               0        113931.57        0      0     0  \n",
              "3               0         93826.63        0      0     0  \n",
              "4               1         79084.10        0      1     0  "
            ],
            "text/html": [
              "\n",
              "  <div id=\"df-e23497a9-5437-4933-9311-e43628b901ec\">\n",
              "    <div class=\"colab-df-container\">\n",
              "      <div>\n",
              "<style scoped>\n",
              "    .dataframe tbody tr th:only-of-type {\n",
              "        vertical-align: middle;\n",
              "    }\n",
              "\n",
              "    .dataframe tbody tr th {\n",
              "        vertical-align: top;\n",
              "    }\n",
              "\n",
              "    .dataframe thead th {\n",
              "        text-align: right;\n",
              "    }\n",
              "</style>\n",
              "<table border=\"1\" class=\"dataframe\">\n",
              "  <thead>\n",
              "    <tr style=\"text-align: right;\">\n",
              "      <th></th>\n",
              "      <th>CreditScore</th>\n",
              "      <th>Age</th>\n",
              "      <th>Tenure</th>\n",
              "      <th>Balance</th>\n",
              "      <th>NumOfProducts</th>\n",
              "      <th>HasCrCard</th>\n",
              "      <th>IsActiveMember</th>\n",
              "      <th>EstimatedSalary</th>\n",
              "      <th>Germany</th>\n",
              "      <th>Spain</th>\n",
              "      <th>Male</th>\n",
              "    </tr>\n",
              "  </thead>\n",
              "  <tbody>\n",
              "    <tr>\n",
              "      <th>0</th>\n",
              "      <td>619</td>\n",
              "      <td>42</td>\n",
              "      <td>2</td>\n",
              "      <td>0.00</td>\n",
              "      <td>1</td>\n",
              "      <td>1</td>\n",
              "      <td>1</td>\n",
              "      <td>101348.88</td>\n",
              "      <td>0</td>\n",
              "      <td>0</td>\n",
              "      <td>0</td>\n",
              "    </tr>\n",
              "    <tr>\n",
              "      <th>1</th>\n",
              "      <td>608</td>\n",
              "      <td>41</td>\n",
              "      <td>1</td>\n",
              "      <td>83807.86</td>\n",
              "      <td>1</td>\n",
              "      <td>0</td>\n",
              "      <td>1</td>\n",
              "      <td>112542.58</td>\n",
              "      <td>0</td>\n",
              "      <td>1</td>\n",
              "      <td>0</td>\n",
              "    </tr>\n",
              "    <tr>\n",
              "      <th>2</th>\n",
              "      <td>502</td>\n",
              "      <td>42</td>\n",
              "      <td>8</td>\n",
              "      <td>159660.80</td>\n",
              "      <td>3</td>\n",
              "      <td>1</td>\n",
              "      <td>0</td>\n",
              "      <td>113931.57</td>\n",
              "      <td>0</td>\n",
              "      <td>0</td>\n",
              "      <td>0</td>\n",
              "    </tr>\n",
              "    <tr>\n",
              "      <th>3</th>\n",
              "      <td>699</td>\n",
              "      <td>39</td>\n",
              "      <td>1</td>\n",
              "      <td>0.00</td>\n",
              "      <td>2</td>\n",
              "      <td>0</td>\n",
              "      <td>0</td>\n",
              "      <td>93826.63</td>\n",
              "      <td>0</td>\n",
              "      <td>0</td>\n",
              "      <td>0</td>\n",
              "    </tr>\n",
              "    <tr>\n",
              "      <th>4</th>\n",
              "      <td>850</td>\n",
              "      <td>43</td>\n",
              "      <td>2</td>\n",
              "      <td>125510.82</td>\n",
              "      <td>1</td>\n",
              "      <td>1</td>\n",
              "      <td>1</td>\n",
              "      <td>79084.10</td>\n",
              "      <td>0</td>\n",
              "      <td>1</td>\n",
              "      <td>0</td>\n",
              "    </tr>\n",
              "  </tbody>\n",
              "</table>\n",
              "</div>\n",
              "      <button class=\"colab-df-convert\" onclick=\"convertToInteractive('df-e23497a9-5437-4933-9311-e43628b901ec')\"\n",
              "              title=\"Convert this dataframe to an interactive table.\"\n",
              "              style=\"display:none;\">\n",
              "        \n",
              "  <svg xmlns=\"http://www.w3.org/2000/svg\" height=\"24px\"viewBox=\"0 0 24 24\"\n",
              "       width=\"24px\">\n",
              "    <path d=\"M0 0h24v24H0V0z\" fill=\"none\"/>\n",
              "    <path d=\"M18.56 5.44l.94 2.06.94-2.06 2.06-.94-2.06-.94-.94-2.06-.94 2.06-2.06.94zm-11 1L8.5 8.5l.94-2.06 2.06-.94-2.06-.94L8.5 2.5l-.94 2.06-2.06.94zm10 10l.94 2.06.94-2.06 2.06-.94-2.06-.94-.94-2.06-.94 2.06-2.06.94z\"/><path d=\"M17.41 7.96l-1.37-1.37c-.4-.4-.92-.59-1.43-.59-.52 0-1.04.2-1.43.59L10.3 9.45l-7.72 7.72c-.78.78-.78 2.05 0 2.83L4 21.41c.39.39.9.59 1.41.59.51 0 1.02-.2 1.41-.59l7.78-7.78 2.81-2.81c.8-.78.8-2.07 0-2.86zM5.41 20L4 18.59l7.72-7.72 1.47 1.35L5.41 20z\"/>\n",
              "  </svg>\n",
              "      </button>\n",
              "      \n",
              "  <style>\n",
              "    .colab-df-container {\n",
              "      display:flex;\n",
              "      flex-wrap:wrap;\n",
              "      gap: 12px;\n",
              "    }\n",
              "\n",
              "    .colab-df-convert {\n",
              "      background-color: #E8F0FE;\n",
              "      border: none;\n",
              "      border-radius: 50%;\n",
              "      cursor: pointer;\n",
              "      display: none;\n",
              "      fill: #1967D2;\n",
              "      height: 32px;\n",
              "      padding: 0 0 0 0;\n",
              "      width: 32px;\n",
              "    }\n",
              "\n",
              "    .colab-df-convert:hover {\n",
              "      background-color: #E2EBFA;\n",
              "      box-shadow: 0px 1px 2px rgba(60, 64, 67, 0.3), 0px 1px 3px 1px rgba(60, 64, 67, 0.15);\n",
              "      fill: #174EA6;\n",
              "    }\n",
              "\n",
              "    [theme=dark] .colab-df-convert {\n",
              "      background-color: #3B4455;\n",
              "      fill: #D2E3FC;\n",
              "    }\n",
              "\n",
              "    [theme=dark] .colab-df-convert:hover {\n",
              "      background-color: #434B5C;\n",
              "      box-shadow: 0px 1px 3px 1px rgba(0, 0, 0, 0.15);\n",
              "      filter: drop-shadow(0px 1px 2px rgba(0, 0, 0, 0.3));\n",
              "      fill: #FFFFFF;\n",
              "    }\n",
              "  </style>\n",
              "\n",
              "      <script>\n",
              "        const buttonEl =\n",
              "          document.querySelector('#df-e23497a9-5437-4933-9311-e43628b901ec button.colab-df-convert');\n",
              "        buttonEl.style.display =\n",
              "          google.colab.kernel.accessAllowed ? 'block' : 'none';\n",
              "\n",
              "        async function convertToInteractive(key) {\n",
              "          const element = document.querySelector('#df-e23497a9-5437-4933-9311-e43628b901ec');\n",
              "          const dataTable =\n",
              "            await google.colab.kernel.invokeFunction('convertToInteractive',\n",
              "                                                     [key], {});\n",
              "          if (!dataTable) return;\n",
              "\n",
              "          const docLinkHtml = 'Like what you see? Visit the ' +\n",
              "            '<a target=\"_blank\" href=https://colab.research.google.com/notebooks/data_table.ipynb>data table notebook</a>'\n",
              "            + ' to learn more about interactive tables.';\n",
              "          element.innerHTML = '';\n",
              "          dataTable['output_type'] = 'display_data';\n",
              "          await google.colab.output.renderOutput(dataTable, element);\n",
              "          const docLink = document.createElement('div');\n",
              "          docLink.innerHTML = docLinkHtml;\n",
              "          element.appendChild(docLink);\n",
              "        }\n",
              "      </script>\n",
              "    </div>\n",
              "  </div>\n",
              "  "
            ]
          },
          "metadata": {},
          "execution_count": 20
        }
      ]
    },
    {
      "cell_type": "code",
      "source": [
        "# Splitting the dataset into the Training set and Test set\n",
        "from sklearn.model_selection import train_test_split\n",
        "X_train, X_test, y_train, y_test = train_test_split(X, y, test_size = 0.2, random_state = 0)"
      ],
      "metadata": {
        "id": "GfHNgSTmodgz"
      },
      "execution_count": 21,
      "outputs": []
    },
    {
      "cell_type": "code",
      "source": [
        "# Feature Scaling\n",
        "from sklearn.preprocessing import StandardScaler\n",
        "sc = StandardScaler()\n",
        "X_train = sc.fit_transform(X_train)\n",
        "X_test = sc.transform(X_test)\n"
      ],
      "metadata": {
        "id": "z25EhXCak7jI"
      },
      "execution_count": 22,
      "outputs": []
    },
    {
      "cell_type": "code",
      "source": [
        "\n",
        "from tensorflow.keras.models import Sequential\n",
        "from tensorflow.keras.layers import Dense\n",
        "from tensorflow.keras.layers import LeakyReLU,PReLU,ELU\n",
        "from tensorflow.keras.layers import Dropout\n"
      ],
      "metadata": {
        "id": "mOhZYS4IlkR8"
      },
      "execution_count": 23,
      "outputs": []
    },
    {
      "cell_type": "code",
      "source": [
        "classifier = Sequential()"
      ],
      "metadata": {
        "id": "mGSwyfM2lrdW"
      },
      "execution_count": 24,
      "outputs": []
    },
    {
      "cell_type": "code",
      "source": [
        "classifier.add(Dense(units=11,activation='relu'))"
      ],
      "metadata": {
        "id": "4vfN7hWPlrlr"
      },
      "execution_count": 25,
      "outputs": []
    },
    {
      "cell_type": "code",
      "source": [
        "classifier.add(Dense(units=6,activation='relu'))"
      ],
      "metadata": {
        "id": "oMj46nGjlroO"
      },
      "execution_count": 26,
      "outputs": []
    },
    {
      "cell_type": "code",
      "source": [
        "classifier.add(Dense(units=1,activation='relu'))"
      ],
      "metadata": {
        "id": "ZgSd7_Gmlrrs"
      },
      "execution_count": 27,
      "outputs": []
    },
    {
      "cell_type": "code",
      "source": [
        "classifier.compile(optimizer='adam',loss='binary_crossentropy',metrics=['accuracy'])"
      ],
      "metadata": {
        "id": "_nkqvuWbl5X6"
      },
      "execution_count": 28,
      "outputs": []
    },
    {
      "cell_type": "code",
      "source": [
        "model_history=classifier.fit(X_train,y_train,validation_split=0.33,batch_size=10,epochs=25)"
      ],
      "metadata": {
        "colab": {
          "base_uri": "https://localhost:8080/"
        },
        "id": "kgSu4XmfmAFD",
        "outputId": "1141ecc8-24c1-4a46-a2c2-c305d6e293f3"
      },
      "execution_count": 29,
      "outputs": [
        {
          "output_type": "stream",
          "name": "stdout",
          "text": [
            "Epoch 1/25\n",
            "536/536 [==============================] - 3s 3ms/step - loss: 2.7291 - accuracy: 0.6776 - val_loss: 2.2771 - val_accuracy: 0.7793\n",
            "Epoch 2/25\n",
            "536/536 [==============================] - 1s 2ms/step - loss: 1.8950 - accuracy: 0.7608 - val_loss: 1.6016 - val_accuracy: 0.7376\n",
            "Epoch 3/25\n",
            "536/536 [==============================] - 2s 3ms/step - loss: 1.3156 - accuracy: 0.7442 - val_loss: 1.0856 - val_accuracy: 0.7660\n",
            "Epoch 4/25\n",
            "536/536 [==============================] - 1s 2ms/step - loss: 0.9645 - accuracy: 0.7738 - val_loss: 0.8915 - val_accuracy: 0.7762\n",
            "Epoch 5/25\n",
            "536/536 [==============================] - 1s 2ms/step - loss: 0.7893 - accuracy: 0.7832 - val_loss: 0.6847 - val_accuracy: 0.7808\n",
            "Epoch 6/25\n",
            "536/536 [==============================] - 2s 3ms/step - loss: 0.6551 - accuracy: 0.7966 - val_loss: 0.5869 - val_accuracy: 0.7948\n",
            "Epoch 7/25\n",
            "536/536 [==============================] - 1s 2ms/step - loss: 0.5777 - accuracy: 0.8099 - val_loss: 0.5456 - val_accuracy: 0.7793\n",
            "Epoch 8/25\n",
            "536/536 [==============================] - 1s 2ms/step - loss: 0.5347 - accuracy: 0.8057 - val_loss: 0.5234 - val_accuracy: 0.8076\n",
            "Epoch 9/25\n",
            "536/536 [==============================] - 2s 3ms/step - loss: 0.4914 - accuracy: 0.8192 - val_loss: 0.4950 - val_accuracy: 0.8084\n",
            "Epoch 10/25\n",
            "536/536 [==============================] - 3s 5ms/step - loss: 0.4918 - accuracy: 0.8207 - val_loss: 0.4815 - val_accuracy: 0.8141\n",
            "Epoch 11/25\n",
            "536/536 [==============================] - 1s 2ms/step - loss: 0.4589 - accuracy: 0.8225 - val_loss: 0.5036 - val_accuracy: 0.8183\n",
            "Epoch 12/25\n",
            "536/536 [==============================] - 2s 3ms/step - loss: 0.4542 - accuracy: 0.8293 - val_loss: 0.4739 - val_accuracy: 0.8243\n",
            "Epoch 13/25\n",
            "536/536 [==============================] - 1s 2ms/step - loss: 0.4467 - accuracy: 0.8296 - val_loss: 0.4773 - val_accuracy: 0.8254\n",
            "Epoch 14/25\n",
            "536/536 [==============================] - 1s 2ms/step - loss: 0.4437 - accuracy: 0.8390 - val_loss: 0.4610 - val_accuracy: 0.8311\n",
            "Epoch 15/25\n",
            "536/536 [==============================] - 1s 2ms/step - loss: 0.4331 - accuracy: 0.8378 - val_loss: 0.4381 - val_accuracy: 0.8315\n",
            "Epoch 16/25\n",
            "536/536 [==============================] - 2s 3ms/step - loss: 0.4133 - accuracy: 0.8397 - val_loss: 0.4525 - val_accuracy: 0.8311\n",
            "Epoch 17/25\n",
            "536/536 [==============================] - 2s 3ms/step - loss: 0.4129 - accuracy: 0.8410 - val_loss: 0.4434 - val_accuracy: 0.8357\n",
            "Epoch 18/25\n",
            "536/536 [==============================] - 1s 2ms/step - loss: 0.4110 - accuracy: 0.8388 - val_loss: 0.4691 - val_accuracy: 0.8141\n",
            "Epoch 19/25\n",
            "536/536 [==============================] - 2s 3ms/step - loss: 0.4011 - accuracy: 0.8433 - val_loss: 0.4510 - val_accuracy: 0.8425\n",
            "Epoch 20/25\n",
            "536/536 [==============================] - 1s 2ms/step - loss: 0.4011 - accuracy: 0.8468 - val_loss: 0.4476 - val_accuracy: 0.8402\n",
            "Epoch 21/25\n",
            "536/536 [==============================] - 2s 3ms/step - loss: 0.3921 - accuracy: 0.8468 - val_loss: 0.4424 - val_accuracy: 0.8391\n",
            "Epoch 22/25\n",
            "536/536 [==============================] - 2s 3ms/step - loss: 0.3883 - accuracy: 0.8468 - val_loss: 0.4117 - val_accuracy: 0.8379\n",
            "Epoch 23/25\n",
            "536/536 [==============================] - 2s 3ms/step - loss: 0.3838 - accuracy: 0.8481 - val_loss: 0.4406 - val_accuracy: 0.8300\n",
            "Epoch 24/25\n",
            "536/536 [==============================] - 1s 2ms/step - loss: 0.3773 - accuracy: 0.8479 - val_loss: 0.3977 - val_accuracy: 0.8398\n",
            "Epoch 25/25\n",
            "536/536 [==============================] - 1s 2ms/step - loss: 0.3743 - accuracy: 0.8485 - val_loss: 0.4297 - val_accuracy: 0.8376\n"
          ]
        }
      ]
    },
    {
      "cell_type": "code",
      "source": [
        " import matplotlib.pyplot  as  plt\n",
        " \n",
        " #summarize history for accuracy\n",
        "plt.plot(model_history.history['accuracy'])\n",
        "plt.plot(model_history.history['val_accuracy'])\n",
        "plt.title('model accuracy')\n",
        "plt.ylabel('accuracy')\n",
        "plt.xlabel('epoch')\n",
        "plt.legend(['train', 'test'], loc='upper left')\n",
        "plt.show()"
      ],
      "metadata": {
        "colab": {
          "base_uri": "https://localhost:8080/",
          "height": 295
        },
        "id": "RjJmd51_XHaU",
        "outputId": "46bbd683-8baf-40e0-ffde-6dd1c34456f5"
      },
      "execution_count": 30,
      "outputs": [
        {
          "output_type": "display_data",
          "data": {
            "text/plain": [
              "<Figure size 432x288 with 1 Axes>"
            ],
            "image/png": "[encoded data removed]"
          },
          "metadata": {
            "needs_background": "light"
          }
        }
      ]
    },
    {
      "cell_type": "code",
      "source": [
        "\n",
        "# summarize history for loss\n",
        "plt.plot(model_history.history['loss'])\n",
        "plt.plot(model_history.history['val_loss'])\n",
        "plt.title('model loss')\n",
        "plt.ylabel('loss')\n",
        "plt.xlabel('epoch')\n",
        "plt.legend(['train', 'test'], loc='upper left')\n",
        "plt.show()"
      ],
      "metadata": {
        "colab": {
          "base_uri": "https://localhost:8080/",
          "height": 295
        },
        "id": "jrtyFlUOmAHq",
        "outputId": "a83e4089-74e3-4cbe-8f42-c2f08d9fa1cb"
      },
      "execution_count": 31,
      "outputs": [
        {
          "output_type": "display_data",
          "data": {
            "text/plain": [
              "<Figure size 432x288 with 1 Axes>"
            ],
            "image/png": "[encoded data removed]"
          },
          "metadata": {
            "needs_background": "light"
          }
        }
      ]
    },
    {
      "cell_type": "code",
      "source": [
        "# Part 3 - Making the predictions and evaluating the model\n",
        "\n",
        "# Predicting the Test set results\n",
        "y_pred = classifier.predict(X_test)\n",
        "y_pred = (y_pred > 0.5)"
      ],
      "metadata": {
        "id": "fg4eWBe_mAK0"
      },
      "execution_count": 32,
      "outputs": []
    },
    {
      "cell_type": "code",
      "source": [
        "# Making the Confusion Matrix\n",
        "from sklearn.metrics import confusion_matrix\n",
        "cm = confusion_matrix(y_test, y_pred)\n",
        "cm\n"
      ],
      "metadata": {
        "id": "iGO7UcY8Zfaw",
        "outputId": "33df7814-a663-492f-a1f7-72d1593633bb",
        "colab": {
          "base_uri": "https://localhost:8080/"
        }
      },
      "execution_count": 33,
      "outputs": [
        {
          "output_type": "execute_result",
          "data": {
            "text/plain": [
              "array([[1553,   42],\n",
              "       [ 255,  150]])"
            ]
          },
          "metadata": {},
          "execution_count": 33
        }
      ]
    },
    {
      "cell_type": "code",
      "source": [
        "# Calculate the Accuracy\n",
        "from sklearn.metrics import accuracy_score\n",
        "score=accuracy_score(y_pred,y_test)\n",
        "score"
      ],
      "metadata": {
        "id": "nOHLvnWcZnUh",
        "outputId": "29405d43-ed7a-4f7a-e4e3-658e8d9ecd8e",
        "colab": {
          "base_uri": "https://localhost:8080/"
        }
      },
      "execution_count": 35,
      "outputs": [
        {
          "output_type": "execute_result",
          "data": {
            "text/plain": [
              "0.8515"
            ]
          },
          "metadata": {},
          "execution_count": 35
        }
      ]
    }
  ]
}